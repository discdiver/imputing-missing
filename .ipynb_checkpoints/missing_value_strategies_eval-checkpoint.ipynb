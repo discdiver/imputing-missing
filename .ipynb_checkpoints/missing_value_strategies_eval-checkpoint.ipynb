{
 "cells": [
  {
   "cell_type": "markdown",
   "metadata": {},
   "source": [
    "Missing values"
   ]
  },
  {
   "cell_type": "markdown",
   "metadata": {},
   "source": [
    "Take like 50 datasets"
   ]
  },
  {
   "cell_type": "markdown",
   "metadata": {},
   "source": [
    "Make function to OHE numeric values."
   ]
  },
  {
   "cell_type": "markdown",
   "metadata": {},
   "source": [
    "Then run all the analyses below and combine into a DataFrame with all the mean and SDs. Plot the result."
   ]
  },
  {
   "cell_type": "markdown",
   "metadata": {},
   "source": [
    "# The scikitlearn docs include a study of different methods for dealing with missing values. The dataset is the California Housing Prices dataset and the missing values are synthetically generated. I wanted a more complete test of imputation strategies so I included the following:\n",
    "\n",
    "- most frequent\n",
    "- missing value indicators for all simple imputation strategies\n",
    "- KNNImputation\n",
    "\n",
    "https://scikit-learn.org/dev/auto_examples/impute/plot_iterative_imputer_variants_comparison.html?highlight=missing"
   ]
  },
  {
   "cell_type": "markdown",
   "metadata": {},
   "source": [
    "# Imputing missing values with variants of IterativeImputer\n",
    "\n",
    ".. currentmodule:: sklearn\n",
    "\n",
    "The :class:`~impute.IterativeImputer` class is very flexible - it can be\n",
    "used with a variety of estimators to do round-robin regression, treating every\n",
    "variable as an output in turn.\n",
    "\n",
    "In this example we compare some estimators for the purpose of missing feature\n",
    "imputation with :class:`~impute.IterativeImputer`:\n",
    "\n",
    "* :class:`~linear_model.BayesianRidge`: regularized linear regression\n",
    "* :class:`~tree.DecisionTreeRegressor`: non-linear regression\n",
    "* :class:`~ensemble.ExtraTreesRegressor`: similar to missForest in R\n",
    "* :class:`~neighbors.KNeighborsRegressor`: comparable to other KNN\n",
    "  imputation approaches\n",
    "\n",
    "Of particular interest is the ability of\n",
    ":class:`~impute.IterativeImputer` to mimic the behavior of missForest, a\n",
    "popular imputation package for R. In this example, we have chosen to use\n",
    ":class:`~ensemble.ExtraTreesRegressor` instead of\n",
    ":class:`~ensemble.RandomForestRegressor` (as in missForest) due to its\n",
    "increased speed.\n",
    "\n",
    "Note that :class:`~neighbors.KNeighborsRegressor` is different from KNN\n",
    "imputation, which learns from samples with missing values by using a distance\n",
    "metric that accounts for missing values, rather than imputing them.\n",
    "\n",
    "The goal is to compare different estimators to see which one is best for the\n",
    ":class:`~impute.IterativeImputer` when using a\n",
    ":class:`~linear_model.BayesianRidge` estimator on the California housing\n",
    "dataset with a single value randomly removed from each row.\n",
    "\n",
    "For this particular pattern of missing values we see that\n",
    ":class:`~ensemble.ExtraTreesRegressor` and\n",
    ":class:`~linear_model.BayesianRidge` give the best results."
   ]
  },
  {
   "cell_type": "code",
   "execution_count": 1,
   "metadata": {
    "collapsed": false,
    "jupyter": {
     "outputs_hidden": false
    }
   },
   "outputs": [],
   "source": [
    "print(__doc__)\n",
    "\n",
    "import numpy as np\n",
    "import matplotlib.pyplot as plt\n",
    "import pandas as pd\n",
    "\n",
    "# To use this experimental feature, we need to explicitly ask for it:\n",
    "from sklearn.experimental import enable_iterative_imputer  # noqa\n",
    "from sklearn.datasets import fetch_california_housing\n",
    "from sklearn.impute import SimpleImputer\n",
    "from sklearn.impute import IterativeImputer\n",
    "from sklearn.linear_model import BayesianRidge\n",
    "from sklearn.tree import DecisionTreeRegressor\n",
    "from sklearn.ensemble import ExtraTreesRegressor\n",
    "from sklearn.neighbors import KNeighborsRegressor\n",
    "from sklearn.pipeline import make_pipeline\n",
    "from sklearn.model_selection import cross_val_score"
   ]
  },
  {
   "cell_type": "code",
   "execution_count": 1,
   "metadata": {
    "collapsed": false,
    "jupyter": {
     "outputs_hidden": false
    }
   },
   "outputs": [],
   "source": [
    "N_SPLITS = 5\n",
    "\n",
    "rng = np.random.RandomState(0)"
   ]
  },
  {
   "cell_type": "code",
   "execution_count": 1,
   "metadata": {
    "collapsed": false,
    "jupyter": {
     "outputs_hidden": false
    }
   },
   "outputs": [],
   "source": [
    "X_full, y_full = fetch_california_housing(return_X_y=True)\n",
    "\n",
    "# ~2k samples is enough for the purpose of the example.\n",
    "# Remove the following two lines for a slower run with different error bars.\n",
    "X_full = X_full[::10]\n",
    "y_full = y_full[::10]\n",
    "n_samples, n_features = X_full.shape"
   ]
  },
  {
   "cell_type": "markdown",
   "metadata": {},
   "source": [
    "### Rows and columns"
   ]
  },
  {
   "cell_type": "code",
   "execution_count": 119,
   "metadata": {},
   "outputs": [
    {
     "data": {
      "text/plain": [
       "(2064, 8)"
      ]
     },
     "execution_count": 119,
     "metadata": {},
     "output_type": "execute_result"
    }
   ],
   "source": [
    "X_full.shape"
   ]
  },
  {
   "cell_type": "markdown",
   "metadata": {},
   "source": [
    "### Score full dataset - no missing values\n",
    "#### wonder if different estimators would do better"
   ]
  },
  {
   "cell_type": "code",
   "execution_count": 113,
   "metadata": {
    "collapsed": false,
    "jupyter": {
     "outputs_hidden": false
    }
   },
   "outputs": [],
   "source": [
    "# Estimate the score on the entire dataset, with no missing values\n",
    "br_estimator = BayesianRidge()\n",
    "score_full_data = pd.DataFrame(\n",
    "    cross_val_score(\n",
    "        br_estimator, X_full, y_full, scoring='neg_mean_squared_error',\n",
    "        cv=N_SPLITS\n",
    "    ),\n",
    "    columns=['Full Data']\n",
    ")"
   ]
  },
  {
   "cell_type": "code",
   "execution_count": 1,
   "metadata": {
    "collapsed": false,
    "jupyter": {
     "outputs_hidden": false
    }
   },
   "outputs": [],
   "source": [
    "# Add a single missing value to each row\n",
    "X_missing = X_full.copy()\n",
    "y_missing = y_full\n",
    "missing_samples = np.arange(n_samples)\n",
    "missing_features = rng.choice(n_features, n_samples, replace=True)\n",
    "X_missing[missing_samples, missing_features] = np.nan"
   ]
  },
  {
   "cell_type": "markdown",
   "metadata": {},
   "source": [
    "### Simple imputers"
   ]
  },
  {
   "cell_type": "code",
   "execution_count": 12,
   "metadata": {
    "collapsed": false,
    "jupyter": {
     "outputs_hidden": false
    }
   },
   "outputs": [],
   "source": [
    "# Estimate the score after imputation (mean and median strategies)\n",
    "score_simple_imputer = pd.DataFrame()\n",
    "\n",
    "for missing in (True, False):\n",
    "    for strategy in ('mean', 'median', 'most_frequent'):     #Jeff added most frequent\n",
    "        estimator = make_pipeline(\n",
    "            SimpleImputer(missing_values=np.nan, strategy=strategy, add_indicator=missing),\n",
    "            br_estimator\n",
    "        )\n",
    "        score_simple_imputer[f'{strategy}_indicator_{missing}'] = cross_val_score(\n",
    "            estimator, X_missing, y_missing, scoring='neg_mean_squared_error',\n",
    "            cv=N_SPLITS\n",
    "        )"
   ]
  },
  {
   "cell_type": "code",
   "execution_count": null,
   "metadata": {},
   "outputs": [],
   "source": []
  },
  {
   "cell_type": "markdown",
   "metadata": {},
   "source": [
    "### Iterative imputers"
   ]
  },
  {
   "cell_type": "code",
   "execution_count": 1,
   "metadata": {
    "collapsed": false,
    "jupyter": {
     "outputs_hidden": false
    }
   },
   "outputs": [],
   "source": [
    "# Estimate the score after iterative imputation of the missing values\n",
    "# with different estimators\n",
    "estimators = [\n",
    "    BayesianRidge(),\n",
    "    DecisionTreeRegressor(max_features='sqrt', random_state=0),\n",
    "    ExtraTreesRegressor(n_estimators=10, random_state=0),\n",
    "    KNeighborsRegressor(n_neighbors=15)\n",
    "]\n",
    "\n",
    "score_iterative_imputer = pd.DataFrame()\n",
    "for impute_estimator in estimators:\n",
    "    estimator = make_pipeline(\n",
    "        IterativeImputer(random_state=0, estimator=impute_estimator),\n",
    "        br_estimator\n",
    "    )\n",
    "    score_iterative_imputer[impute_estimator.__class__.__name__] = \\\n",
    "        cross_val_score(\n",
    "            estimator, X_missing, y_missing, scoring='neg_mean_squared_error',\n",
    "            cv=N_SPLITS\n",
    "        )"
   ]
  },
  {
   "cell_type": "markdown",
   "metadata": {},
   "source": [
    "## Add drop values"
   ]
  },
  {
   "cell_type": "code",
   "execution_count": null,
   "metadata": {},
   "outputs": [],
   "source": [
    "# estimator = make_pipeline(\n",
    "#         SimpleImputer(missing_values=np.nan, strategy=drop),\n",
    "#         br_estimator\n",
    "#     )\n",
    "#     score_simple_imputer[strategy] = cross_val_score(\n",
    "#         estimator, X_missing, y_missing, scoring='neg_mean_squared_error',\n",
    "#         cv=N_SPLITS\n",
    "#     )"
   ]
  },
  {
   "cell_type": "markdown",
   "metadata": {},
   "source": [
    "## Add missing value indicator only"
   ]
  },
  {
   "cell_type": "code",
   "execution_count": null,
   "metadata": {},
   "outputs": [],
   "source": []
  },
  {
   "cell_type": "markdown",
   "metadata": {},
   "source": [
    "## Add KNNImputer"
   ]
  },
  {
   "cell_type": "code",
   "execution_count": 105,
   "metadata": {},
   "outputs": [],
   "source": [
    "from sklearn.impute import KNNImputer\n",
    "\n",
    "score_knn_imputer = pd.DataFrame()\n",
    "\n",
    "for missing in (True, False):\n",
    "    for neighbors in range(3, 16, 2):\n",
    "\n",
    "        estimator = make_pipeline(\n",
    "            KNNImputer(\n",
    "                missing_values=np.nan, \n",
    "                n_neighbors=neighbors,\n",
    "                add_indicator=missing\n",
    "            ),\n",
    "            br_estimator\n",
    "        )\n",
    "\n",
    "        score_knn_imputer[f'KNN_{neighbors}_indicator_{missing}'] = cross_val_score(\n",
    "            estimator, \n",
    "            X_missing, \n",
    "            y_missing, \n",
    "            scoring='neg_mean_squared_error',\n",
    "            cv=N_SPLITS\n",
    "        )"
   ]
  },
  {
   "cell_type": "markdown",
   "metadata": {},
   "source": [
    "## Try larger values for n for KNNImputer"
   ]
  },
  {
   "cell_type": "markdown",
   "metadata": {},
   "source": [
    "### Concatenate scores"
   ]
  },
  {
   "cell_type": "code",
   "execution_count": 106,
   "metadata": {
    "collapsed": false,
    "jupyter": {
     "outputs_hidden": false
    }
   },
   "outputs": [
    {
     "data": {
      "text/html": [
       "<div>\n",
       "<style scoped>\n",
       "    .dataframe tbody tr th:only-of-type {\n",
       "        vertical-align: middle;\n",
       "    }\n",
       "\n",
       "    .dataframe tbody tr th {\n",
       "        vertical-align: top;\n",
       "    }\n",
       "\n",
       "    .dataframe thead th {\n",
       "        text-align: right;\n",
       "    }\n",
       "</style>\n",
       "<table border=\"1\" class=\"dataframe\">\n",
       "  <thead>\n",
       "    <tr style=\"text-align: right;\">\n",
       "      <th></th>\n",
       "      <th>0</th>\n",
       "      <th>1</th>\n",
       "      <th>2</th>\n",
       "      <th>3</th>\n",
       "      <th>4</th>\n",
       "    </tr>\n",
       "  </thead>\n",
       "  <tbody>\n",
       "    <tr>\n",
       "      <th>Full Data</th>\n",
       "      <td>-0.408433</td>\n",
       "      <td>-0.636009</td>\n",
       "      <td>-0.614910</td>\n",
       "      <td>-1.089616</td>\n",
       "      <td>-0.407541</td>\n",
       "    </tr>\n",
       "    <tr>\n",
       "      <th>mean_missing_True</th>\n",
       "      <td>-0.590758</td>\n",
       "      <td>-0.812955</td>\n",
       "      <td>-0.762217</td>\n",
       "      <td>-1.306440</td>\n",
       "      <td>-0.668197</td>\n",
       "    </tr>\n",
       "    <tr>\n",
       "      <th>median_missing_True</th>\n",
       "      <td>-0.592956</td>\n",
       "      <td>-0.815565</td>\n",
       "      <td>-0.761669</td>\n",
       "      <td>-1.307777</td>\n",
       "      <td>-0.673358</td>\n",
       "    </tr>\n",
       "    <tr>\n",
       "      <th>most_frequent_missing_True</th>\n",
       "      <td>-0.588479</td>\n",
       "      <td>-0.819148</td>\n",
       "      <td>-0.763282</td>\n",
       "      <td>-1.344190</td>\n",
       "      <td>-0.673422</td>\n",
       "    </tr>\n",
       "    <tr>\n",
       "      <th>mean_missing_False</th>\n",
       "      <td>-0.581144</td>\n",
       "      <td>-0.806046</td>\n",
       "      <td>-0.764460</td>\n",
       "      <td>-1.319445</td>\n",
       "      <td>-0.663177</td>\n",
       "    </tr>\n",
       "    <tr>\n",
       "      <th>median_missing_False</th>\n",
       "      <td>-0.597054</td>\n",
       "      <td>-0.823622</td>\n",
       "      <td>-0.762791</td>\n",
       "      <td>-1.281915</td>\n",
       "      <td>-0.698396</td>\n",
       "    </tr>\n",
       "    <tr>\n",
       "      <th>most_frequent_missing_False</th>\n",
       "      <td>-0.599106</td>\n",
       "      <td>-0.920069</td>\n",
       "      <td>-0.796995</td>\n",
       "      <td>-1.785956</td>\n",
       "      <td>-0.762250</td>\n",
       "    </tr>\n",
       "    <tr>\n",
       "      <th>BayesianRidge</th>\n",
       "      <td>-0.491962</td>\n",
       "      <td>-0.774114</td>\n",
       "      <td>-0.736444</td>\n",
       "      <td>-0.899903</td>\n",
       "      <td>-0.574412</td>\n",
       "    </tr>\n",
       "    <tr>\n",
       "      <th>DecisionTreeRegressor</th>\n",
       "      <td>-0.556094</td>\n",
       "      <td>-0.783482</td>\n",
       "      <td>-0.736776</td>\n",
       "      <td>-1.240339</td>\n",
       "      <td>-0.562786</td>\n",
       "    </tr>\n",
       "    <tr>\n",
       "      <th>ExtraTreesRegressor</th>\n",
       "      <td>-0.468117</td>\n",
       "      <td>-0.710690</td>\n",
       "      <td>-0.682888</td>\n",
       "      <td>-1.181990</td>\n",
       "      <td>-0.472711</td>\n",
       "    </tr>\n",
       "    <tr>\n",
       "      <th>KNeighborsRegressor</th>\n",
       "      <td>-0.591408</td>\n",
       "      <td>-0.817013</td>\n",
       "      <td>-0.772740</td>\n",
       "      <td>-1.329922</td>\n",
       "      <td>-0.662786</td>\n",
       "    </tr>\n",
       "    <tr>\n",
       "      <th>KNN_3_indicator_True</th>\n",
       "      <td>-0.570587</td>\n",
       "      <td>-0.842357</td>\n",
       "      <td>-0.712159</td>\n",
       "      <td>-1.348267</td>\n",
       "      <td>-0.558620</td>\n",
       "    </tr>\n",
       "    <tr>\n",
       "      <th>KNN_5_indicator_True</th>\n",
       "      <td>-0.553057</td>\n",
       "      <td>-0.852368</td>\n",
       "      <td>-0.695785</td>\n",
       "      <td>-1.377270</td>\n",
       "      <td>-0.556117</td>\n",
       "    </tr>\n",
       "    <tr>\n",
       "      <th>KNN_7_indicator_True</th>\n",
       "      <td>-0.555900</td>\n",
       "      <td>-0.855881</td>\n",
       "      <td>-0.698812</td>\n",
       "      <td>-1.379023</td>\n",
       "      <td>-0.556853</td>\n",
       "    </tr>\n",
       "    <tr>\n",
       "      <th>KNN_9_indicator_True</th>\n",
       "      <td>-0.548311</td>\n",
       "      <td>-0.867814</td>\n",
       "      <td>-0.699662</td>\n",
       "      <td>-1.387495</td>\n",
       "      <td>-0.553008</td>\n",
       "    </tr>\n",
       "    <tr>\n",
       "      <th>KNN_11_indicator_True</th>\n",
       "      <td>-0.558018</td>\n",
       "      <td>-0.870661</td>\n",
       "      <td>-0.705289</td>\n",
       "      <td>-1.377011</td>\n",
       "      <td>-0.560509</td>\n",
       "    </tr>\n",
       "    <tr>\n",
       "      <th>KNN_13_indicator_True</th>\n",
       "      <td>-0.569437</td>\n",
       "      <td>-0.874735</td>\n",
       "      <td>-0.709513</td>\n",
       "      <td>-1.383418</td>\n",
       "      <td>-0.569055</td>\n",
       "    </tr>\n",
       "    <tr>\n",
       "      <th>KNN_15_indicator_True</th>\n",
       "      <td>-0.573497</td>\n",
       "      <td>-0.882686</td>\n",
       "      <td>-0.717472</td>\n",
       "      <td>-1.385143</td>\n",
       "      <td>-0.575109</td>\n",
       "    </tr>\n",
       "    <tr>\n",
       "      <th>KNN_3_indicator_False</th>\n",
       "      <td>-0.563820</td>\n",
       "      <td>-0.829770</td>\n",
       "      <td>-0.712421</td>\n",
       "      <td>-1.354106</td>\n",
       "      <td>-0.557599</td>\n",
       "    </tr>\n",
       "    <tr>\n",
       "      <th>KNN_5_indicator_False</th>\n",
       "      <td>-0.551265</td>\n",
       "      <td>-0.837939</td>\n",
       "      <td>-0.695977</td>\n",
       "      <td>-1.386294</td>\n",
       "      <td>-0.555492</td>\n",
       "    </tr>\n",
       "    <tr>\n",
       "      <th>KNN_7_indicator_False</th>\n",
       "      <td>-0.554212</td>\n",
       "      <td>-0.839272</td>\n",
       "      <td>-0.698951</td>\n",
       "      <td>-1.385890</td>\n",
       "      <td>-0.556820</td>\n",
       "    </tr>\n",
       "    <tr>\n",
       "      <th>KNN_9_indicator_False</th>\n",
       "      <td>-0.548362</td>\n",
       "      <td>-0.853245</td>\n",
       "      <td>-0.700284</td>\n",
       "      <td>-1.395031</td>\n",
       "      <td>-0.555701</td>\n",
       "    </tr>\n",
       "    <tr>\n",
       "      <th>KNN_11_indicator_False</th>\n",
       "      <td>-0.557816</td>\n",
       "      <td>-0.856628</td>\n",
       "      <td>-0.706595</td>\n",
       "      <td>-1.384705</td>\n",
       "      <td>-0.565196</td>\n",
       "    </tr>\n",
       "    <tr>\n",
       "      <th>KNN_13_indicator_False</th>\n",
       "      <td>-0.568869</td>\n",
       "      <td>-0.860672</td>\n",
       "      <td>-0.710736</td>\n",
       "      <td>-1.392377</td>\n",
       "      <td>-0.574997</td>\n",
       "    </tr>\n",
       "    <tr>\n",
       "      <th>KNN_15_indicator_False</th>\n",
       "      <td>-0.570876</td>\n",
       "      <td>-0.869182</td>\n",
       "      <td>-0.718576</td>\n",
       "      <td>-1.395362</td>\n",
       "      <td>-0.581855</td>\n",
       "    </tr>\n",
       "  </tbody>\n",
       "</table>\n",
       "</div>"
      ],
      "text/plain": [
       "                                    0         1         2         3         4\n",
       "Full Data                   -0.408433 -0.636009 -0.614910 -1.089616 -0.407541\n",
       "mean_missing_True           -0.590758 -0.812955 -0.762217 -1.306440 -0.668197\n",
       "median_missing_True         -0.592956 -0.815565 -0.761669 -1.307777 -0.673358\n",
       "most_frequent_missing_True  -0.588479 -0.819148 -0.763282 -1.344190 -0.673422\n",
       "mean_missing_False          -0.581144 -0.806046 -0.764460 -1.319445 -0.663177\n",
       "median_missing_False        -0.597054 -0.823622 -0.762791 -1.281915 -0.698396\n",
       "most_frequent_missing_False -0.599106 -0.920069 -0.796995 -1.785956 -0.762250\n",
       "BayesianRidge               -0.491962 -0.774114 -0.736444 -0.899903 -0.574412\n",
       "DecisionTreeRegressor       -0.556094 -0.783482 -0.736776 -1.240339 -0.562786\n",
       "ExtraTreesRegressor         -0.468117 -0.710690 -0.682888 -1.181990 -0.472711\n",
       "KNeighborsRegressor         -0.591408 -0.817013 -0.772740 -1.329922 -0.662786\n",
       "KNN_3_indicator_True        -0.570587 -0.842357 -0.712159 -1.348267 -0.558620\n",
       "KNN_5_indicator_True        -0.553057 -0.852368 -0.695785 -1.377270 -0.556117\n",
       "KNN_7_indicator_True        -0.555900 -0.855881 -0.698812 -1.379023 -0.556853\n",
       "KNN_9_indicator_True        -0.548311 -0.867814 -0.699662 -1.387495 -0.553008\n",
       "KNN_11_indicator_True       -0.558018 -0.870661 -0.705289 -1.377011 -0.560509\n",
       "KNN_13_indicator_True       -0.569437 -0.874735 -0.709513 -1.383418 -0.569055\n",
       "KNN_15_indicator_True       -0.573497 -0.882686 -0.717472 -1.385143 -0.575109\n",
       "KNN_3_indicator_False       -0.563820 -0.829770 -0.712421 -1.354106 -0.557599\n",
       "KNN_5_indicator_False       -0.551265 -0.837939 -0.695977 -1.386294 -0.555492\n",
       "KNN_7_indicator_False       -0.554212 -0.839272 -0.698951 -1.385890 -0.556820\n",
       "KNN_9_indicator_False       -0.548362 -0.853245 -0.700284 -1.395031 -0.555701\n",
       "KNN_11_indicator_False      -0.557816 -0.856628 -0.706595 -1.384705 -0.565196\n",
       "KNN_13_indicator_False      -0.568869 -0.860672 -0.710736 -1.392377 -0.574997\n",
       "KNN_15_indicator_False      -0.570876 -0.869182 -0.718576 -1.395362 -0.581855"
      ]
     },
     "execution_count": 106,
     "metadata": {},
     "output_type": "execute_result"
    }
   ],
   "source": [
    "scores = pd.concat(\n",
    "    [score_full_data, score_simple_imputer, score_iterative_imputer, score_knn_imputer], axis=1\n",
    ")\n",
    "scores.T"
   ]
  },
  {
   "cell_type": "code",
   "execution_count": 107,
   "metadata": {},
   "outputs": [
    {
     "data": {
      "text/html": [
       "<div>\n",
       "<style scoped>\n",
       "    .dataframe tbody tr th:only-of-type {\n",
       "        vertical-align: middle;\n",
       "    }\n",
       "\n",
       "    .dataframe tbody tr th {\n",
       "        vertical-align: top;\n",
       "    }\n",
       "\n",
       "    .dataframe thead th {\n",
       "        text-align: right;\n",
       "    }\n",
       "</style>\n",
       "<table border=\"1\" class=\"dataframe\">\n",
       "  <thead>\n",
       "    <tr style=\"text-align: right;\">\n",
       "      <th></th>\n",
       "      <th>Mean</th>\n",
       "      <th>Std</th>\n",
       "    </tr>\n",
       "  </thead>\n",
       "  <tbody>\n",
       "    <tr>\n",
       "      <th>most_frequent_missing_False</th>\n",
       "      <td>0.972875</td>\n",
       "      <td>0.468745</td>\n",
       "    </tr>\n",
       "    <tr>\n",
       "      <th>most_frequent_missing_True</th>\n",
       "      <td>0.837704</td>\n",
       "      <td>0.296442</td>\n",
       "    </tr>\n",
       "    <tr>\n",
       "      <th>KNeighborsRegressor</th>\n",
       "      <td>0.834774</td>\n",
       "      <td>0.290750</td>\n",
       "    </tr>\n",
       "    <tr>\n",
       "      <th>median_missing_False</th>\n",
       "      <td>0.832756</td>\n",
       "      <td>0.264731</td>\n",
       "    </tr>\n",
       "    <tr>\n",
       "      <th>median_missing_True</th>\n",
       "      <td>0.830265</td>\n",
       "      <td>0.280123</td>\n",
       "    </tr>\n",
       "    <tr>\n",
       "      <th>mean_missing_True</th>\n",
       "      <td>0.828113</td>\n",
       "      <td>0.280749</td>\n",
       "    </tr>\n",
       "    <tr>\n",
       "      <th>KNN_15_indicator_False</th>\n",
       "      <td>0.827170</td>\n",
       "      <td>0.339951</td>\n",
       "    </tr>\n",
       "    <tr>\n",
       "      <th>mean_missing_False</th>\n",
       "      <td>0.826854</td>\n",
       "      <td>0.289022</td>\n",
       "    </tr>\n",
       "    <tr>\n",
       "      <th>KNN_15_indicator_True</th>\n",
       "      <td>0.826781</td>\n",
       "      <td>0.337021</td>\n",
       "    </tr>\n",
       "    <tr>\n",
       "      <th>KNN_13_indicator_False</th>\n",
       "      <td>0.821530</td>\n",
       "      <td>0.340694</td>\n",
       "    </tr>\n",
       "    <tr>\n",
       "      <th>KNN_13_indicator_True</th>\n",
       "      <td>0.821232</td>\n",
       "      <td>0.338523</td>\n",
       "    </tr>\n",
       "    <tr>\n",
       "      <th>KNN_11_indicator_True</th>\n",
       "      <td>0.814298</td>\n",
       "      <td>0.339777</td>\n",
       "    </tr>\n",
       "    <tr>\n",
       "      <th>KNN_11_indicator_False</th>\n",
       "      <td>0.814188</td>\n",
       "      <td>0.341537</td>\n",
       "    </tr>\n",
       "    <tr>\n",
       "      <th>KNN_9_indicator_True</th>\n",
       "      <td>0.811258</td>\n",
       "      <td>0.347683</td>\n",
       "    </tr>\n",
       "    <tr>\n",
       "      <th>KNN_9_indicator_False</th>\n",
       "      <td>0.810525</td>\n",
       "      <td>0.349746</td>\n",
       "    </tr>\n",
       "    <tr>\n",
       "      <th>KNN_7_indicator_True</th>\n",
       "      <td>0.809294</td>\n",
       "      <td>0.341651</td>\n",
       "    </tr>\n",
       "    <tr>\n",
       "      <th>KNN_7_indicator_False</th>\n",
       "      <td>0.807029</td>\n",
       "      <td>0.344355</td>\n",
       "    </tr>\n",
       "    <tr>\n",
       "      <th>KNN_5_indicator_True</th>\n",
       "      <td>0.806920</td>\n",
       "      <td>0.341710</td>\n",
       "    </tr>\n",
       "    <tr>\n",
       "      <th>KNN_3_indicator_True</th>\n",
       "      <td>0.806398</td>\n",
       "      <td>0.324344</td>\n",
       "    </tr>\n",
       "    <tr>\n",
       "      <th>KNN_5_indicator_False</th>\n",
       "      <td>0.805394</td>\n",
       "      <td>0.345510</td>\n",
       "    </tr>\n",
       "    <tr>\n",
       "      <th>KNN_3_indicator_False</th>\n",
       "      <td>0.803543</td>\n",
       "      <td>0.327897</td>\n",
       "    </tr>\n",
       "    <tr>\n",
       "      <th>DecisionTreeRegressor</th>\n",
       "      <td>0.775895</td>\n",
       "      <td>0.278848</td>\n",
       "    </tr>\n",
       "    <tr>\n",
       "      <th>ExtraTreesRegressor</th>\n",
       "      <td>0.703279</td>\n",
       "      <td>0.290731</td>\n",
       "    </tr>\n",
       "    <tr>\n",
       "      <th>BayesianRidge</th>\n",
       "      <td>0.695367</td>\n",
       "      <td>0.162578</td>\n",
       "    </tr>\n",
       "    <tr>\n",
       "      <th>Full Data</th>\n",
       "      <td>0.631302</td>\n",
       "      <td>0.278425</td>\n",
       "    </tr>\n",
       "  </tbody>\n",
       "</table>\n",
       "</div>"
      ],
      "text/plain": [
       "                                 Mean       Std\n",
       "most_frequent_missing_False  0.972875  0.468745\n",
       "most_frequent_missing_True   0.837704  0.296442\n",
       "KNeighborsRegressor          0.834774  0.290750\n",
       "median_missing_False         0.832756  0.264731\n",
       "median_missing_True          0.830265  0.280123\n",
       "mean_missing_True            0.828113  0.280749\n",
       "KNN_15_indicator_False       0.827170  0.339951\n",
       "mean_missing_False           0.826854  0.289022\n",
       "KNN_15_indicator_True        0.826781  0.337021\n",
       "KNN_13_indicator_False       0.821530  0.340694\n",
       "KNN_13_indicator_True        0.821232  0.338523\n",
       "KNN_11_indicator_True        0.814298  0.339777\n",
       "KNN_11_indicator_False       0.814188  0.341537\n",
       "KNN_9_indicator_True         0.811258  0.347683\n",
       "KNN_9_indicator_False        0.810525  0.349746\n",
       "KNN_7_indicator_True         0.809294  0.341651\n",
       "KNN_7_indicator_False        0.807029  0.344355\n",
       "KNN_5_indicator_True         0.806920  0.341710\n",
       "KNN_3_indicator_True         0.806398  0.324344\n",
       "KNN_5_indicator_False        0.805394  0.345510\n",
       "KNN_3_indicator_False        0.803543  0.327897\n",
       "DecisionTreeRegressor        0.775895  0.278848\n",
       "ExtraTreesRegressor          0.703279  0.290731\n",
       "BayesianRidge                0.695367  0.162578\n",
       "Full Data                    0.631302  0.278425"
      ]
     },
     "execution_count": 107,
     "metadata": {},
     "output_type": "execute_result"
    }
   ],
   "source": [
    "df = pd.concat([scores.mean(), scores.std()], axis=1)\n",
    "df.columns=['Mean', 'Std']\n",
    "df['Mean'] = -df['Mean']\n",
    "df = df.sort_values(by='Mean', ascending=False)\n",
    "df"
   ]
  },
  {
   "cell_type": "markdown",
   "metadata": {},
   "source": [
    "## Plots"
   ]
  },
  {
   "cell_type": "code",
   "execution_count": 108,
   "metadata": {},
   "outputs": [
    {
     "data": {
      "image/png": "[encoded data removed]",
      "text/plain": [
       "<Figure size 864x576 with 1 Axes>"
      ]
     },
     "metadata": {
      "needs_background": "light"
     },
     "output_type": "display_data"
    }
   ],
   "source": [
    "df.plot(\n",
    "    kind='barh',  \n",
    "    y=\"Mean\", \n",
    "    xerr=\"Std\", \n",
    "    title='California Housing Regression with Different Imputation Methods',\n",
    "    legend=False, \n",
    "    figsize=(12, 8),\n",
    ")\n",
    "    \n",
    "plt.xlabel('MSE (smaller is better)');"
   ]
  },
  {
   "cell_type": "markdown",
   "metadata": {},
   "source": [
    "I tested additional ways to deal with missing values. In this one limited test, where the data is missing completely at random, the iterative imputation methods performed best. KNNImputer could be tested with Different KNN values.\n",
    "\n",
    "Missing value indicators didn't have a large impact. Picking the most frequent value was a big loser."
   ]
  },
  {
   "cell_type": "markdown",
   "metadata": {},
   "source": [
    "Main takeaways:\n",
    "1. the imputation strategy can matter ALOT for performance.\n",
    "2. multiple imputation was best in this case. KNN with small N next best, but not a big deal with basic strategy used - although most frequent was a real loser in this case."
   ]
  },
  {
   "cell_type": "markdown",
   "metadata": {},
   "source": [
    "### Next steps\n",
    "\n",
    "Make functions to do with multiple datasets.\n",
    "Do analysis of performance across a variety of datasets.\n",
    "Maybe just do OHE and take top 10 features for all of them."
   ]
  },
  {
   "cell_type": "code",
   "execution_count": null,
   "metadata": {},
   "outputs": [],
   "source": []
  }
 ],
 "metadata": {
  "kernelspec": {
   "display_name": "Python 3",
   "language": "python",
   "name": "python3"
  },
  "language_info": {
   "codemirror_mode": {
    "name": "ipython",
    "version": 3
   },
   "file_extension": ".py",
   "mimetype": "text/x-python",
   "name": "python",
   "nbconvert_exporter": "python",
   "pygments_lexer": "ipython3",
   "version": "3.8.5"
  }
 },
 "nbformat": 4,
 "nbformat_minor": 4
}
