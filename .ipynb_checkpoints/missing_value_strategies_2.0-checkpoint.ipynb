{
 "cells": [
  {
   "cell_type": "markdown",
   "metadata": {},
   "source": [
    "Missing values"
   ]
  },
  {
   "cell_type": "markdown",
   "metadata": {},
   "source": [
    "Take like 50 datasets"
   ]
  },
  {
   "cell_type": "markdown",
   "metadata": {},
   "source": [
    "Make function to OHE numeric values."
   ]
  },
  {
   "cell_type": "markdown",
   "metadata": {},
   "source": [
    "Then run all the analyses below and combine into a DataFrame with all the mean and SDs. Plot the result.\n",
    "\n",
    "It gets a lot slower with more data. Let's track the time and number of samples and number of columns."
   ]
  },
  {
   "cell_type": "markdown",
   "metadata": {},
   "source": [
    "The scikitlearn docs include a study of different methods for dealing with missing values. The dataset is the California Housing Prices dataset and the missing values are synthetically generated. I wanted a more complete test of imputation strategies so I included the following:\n",
    "\n",
    "- most frequent\n",
    "- missing value indicators for all simple imputation strategies\n",
    "- KNNImputation\n",
    "\n",
    "https://scikit-learn.org/dev/auto_examples/impute/plot_iterative_imputer_variants_comparison.html?highlight=missing"
   ]
  },
  {
   "cell_type": "markdown",
   "metadata": {},
   "source": [
    "# Imputing missing values with variants of IterativeImputer\n",
    "\n",
    ".. currentmodule:: sklearn\n",
    "\n",
    "The :class:`~impute.IterativeImputer` class is very flexible - it can be\n",
    "used with a variety of estimators to do round-robin regression, treating every\n",
    "variable as an output in turn.\n",
    "\n",
    "In this example we compare some estimators for the purpose of missing feature\n",
    "imputation with :class:`~impute.IterativeImputer`:\n",
    "\n",
    "* :class:`~linear_model.BayesianRidge`: regularized linear regression\n",
    "* :class:`~tree.DecisionTreeRegressor`: non-linear regression\n",
    "* :class:`~ensemble.ExtraTreesRegressor`: similar to missForest in R\n",
    "* :class:`~neighbors.KNeighborsRegressor`: comparable to other KNN\n",
    "  imputation approaches\n",
    "\n",
    "Of particular interest is the ability of\n",
    ":class:`~impute.IterativeImputer` to mimic the behavior of missForest, a\n",
    "popular imputation package for R. In this example, we have chosen to use\n",
    ":class:`~ensemble.ExtraTreesRegressor` instead of\n",
    ":class:`~ensemble.RandomForestRegressor` (as in missForest) due to its\n",
    "increased speed.\n",
    "\n",
    "Note that :class:`~neighbors.KNeighborsRegressor` is different from KNN\n",
    "imputation, which learns from samples with missing values by using a distance\n",
    "metric that accounts for missing values, rather than imputing them.\n",
    "\n",
    "The goal is to compare different estimators to see which one is best for the\n",
    ":class:`~impute.IterativeImputer` when using a\n",
    ":class:`~linear_model.BayesianRidge` estimator on the California housing\n",
    "dataset with a single value randomly removed from each row.\n",
    "\n",
    "For this particular pattern of missing values we see that\n",
    ":class:`~ensemble.ExtraTreesRegressor` and\n",
    ":class:`~linear_model.BayesianRidge` give the best results."
   ]
  },
  {
   "cell_type": "code",
   "execution_count": 8,
   "metadata": {
    "collapsed": false,
    "jupyter": {
     "outputs_hidden": false
    }
   },
   "outputs": [],
   "source": [
    "import numpy as np\n",
    "import matplotlib.pyplot as plt\n",
    "import pandas as pd\n",
    "\n",
    "# To use this experimental feature, we need to explicitly ask for it:\n",
    "from sklearn.experimental import enable_iterative_imputer  # noqa\n",
    "from sklearn.datasets import fetch_california_housing\n",
    "from sklearn.impute import SimpleImputer, IterativeImputer\n",
    "from sklearn.linear_model import BayesianRidge, LogisticRegression\n",
    "from sklearn.tree import DecisionTreeRegressor\n",
    "from sklearn.ensemble import ExtraTreesRegressor\n",
    "from sklearn.neighbors import KNeighborsRegressor\n",
    "\n",
    "from sklearn.pipeline import make_pipeline\n",
    "from sklearn.model_selection import train_test_split, GridSearchCV\n",
    "from category_encoders import OneHotEncoder"
   ]
  },
  {
   "cell_type": "markdown",
   "metadata": {},
   "source": [
    "## Datasets\n",
    "\n",
    "Ames, Iowa and Titanic only ones I know with much missing data\n"
   ]
  },
  {
   "cell_type": "markdown",
   "metadata": {},
   "source": [
    "## Set X and y"
   ]
  },
  {
   "cell_type": "code",
   "execution_count": 2,
   "metadata": {
    "collapsed": false,
    "jupyter": {
     "outputs_hidden": false
    }
   },
   "outputs": [],
   "source": [
    "rng = np.random.RandomState(0)"
   ]
  },
  {
   "cell_type": "markdown",
   "metadata": {},
   "source": [
    "## Artificial missing number datasets"
   ]
  },
  {
   "cell_type": "code",
   "execution_count": null,
   "metadata": {
    "collapsed": false,
    "jupyter": {
     "outputs_hidden": false
    }
   },
   "outputs": [],
   "source": [
    "cal_X, cal_y = fetch_california_housing(return_X_y=True)\n",
    "np.isnan(cal_X).sum()"
   ]
  },
  {
   "cell_type": "markdown",
   "metadata": {},
   "source": [
    "Could create missing values, but if do so completely at random, limits what I can say. May have to do for now."
   ]
  },
  {
   "cell_type": "code",
   "execution_count": null,
   "metadata": {},
   "outputs": [],
   "source": []
  },
  {
   "cell_type": "markdown",
   "metadata": {},
   "source": [
    "## Fill missing values many ways"
   ]
  },
  {
   "cell_type": "code",
   "execution_count": null,
   "metadata": {},
   "outputs": [],
   "source": []
  },
  {
   "cell_type": "markdown",
   "metadata": {},
   "source": [
    "## Pass result of filling values to pipeline for OHE, SS, fit to model"
   ]
  },
  {
   "cell_type": "code",
   "execution_count": null,
   "metadata": {},
   "outputs": [],
   "source": []
  },
  {
   "cell_type": "markdown",
   "metadata": {},
   "source": [
    "## Print results"
   ]
  },
  {
   "cell_type": "markdown",
   "metadata": {},
   "source": [
    "### Score full dataset - no missing values\n",
    "#### wonder if different estimators would do better"
   ]
  },
  {
   "cell_type": "code",
   "execution_count": 16,
   "metadata": {
    "collapsed": false,
    "jupyter": {
     "outputs_hidden": false
    }
   },
   "outputs": [],
   "source": [
    "# Estimate the score on the entire dataset, with no missing values\n",
    "br_estimator = BayesianRidge()\n",
    "score_full_data = pd.DataFrame(\n",
    "    cross_val_score(\n",
    "        br_estimator, X_full, y_full, scoring='neg_mean_squared_error',\n",
    "        cv=N_SPLITS\n",
    "    ),\n",
    "    columns=['Full Data']\n",
    ")"
   ]
  },
  {
   "cell_type": "code",
   "execution_count": 17,
   "metadata": {
    "collapsed": false,
    "jupyter": {
     "outputs_hidden": false
    }
   },
   "outputs": [],
   "source": [
    "# Add a single missing value to each row\n",
    "X_missing = X_full.copy()\n",
    "y_missing = y_full\n",
    "missing_samples = np.arange(n_samples)\n",
    "missing_features = rng.choice(n_features, n_samples, replace=True)\n",
    "X_missing[missing_samples, missing_features] = np.nan"
   ]
  },
  {
   "cell_type": "markdown",
   "metadata": {},
   "source": [
    "### Simple imputers"
   ]
  },
  {
   "cell_type": "code",
   "execution_count": 27,
   "metadata": {
    "collapsed": false,
    "jupyter": {
     "outputs_hidden": false
    }
   },
   "outputs": [],
   "source": [
    "# Estimate the score after imputation (mean and median strategies)\n",
    "score_simple_imputer = pd.DataFrame()\n",
    "\n",
    "for missing in (True, False):\n",
    "    for strategy in ('mean', 'median', 'most_frequent'):     #Jeff added most frequent\n",
    "        estimator = make_pipeline(\n",
    "            SimpleImputer(missing_values=np.nan, strategy=strategy, add_indicator=missing),\n",
    "            br_estimator\n",
    "        )\n",
    "        score_simple_imputer[f'{strategy}_indicator_{missing}'] = cross_val_score(\n",
    "            estimator, X_missing, y_missing, scoring='neg_mean_squared_error',\n",
    "            cv=N_SPLITS\n",
    "        )"
   ]
  },
  {
   "cell_type": "code",
   "execution_count": null,
   "metadata": {},
   "outputs": [],
   "source": []
  },
  {
   "cell_type": "markdown",
   "metadata": {},
   "source": [
    "### Iterative imputers"
   ]
  },
  {
   "cell_type": "code",
   "execution_count": 8,
   "metadata": {
    "collapsed": false,
    "jupyter": {
     "outputs_hidden": false
    }
   },
   "outputs": [
    {
     "name": "stderr",
     "output_type": "stream",
     "text": [
      "/Users/jeffhale/miniconda3/lib/python3.8/site-packages/sklearn/impute/_iterative.py:669: ConvergenceWarning: [IterativeImputer] Early stopping criterion not reached.\n",
      "  warnings.warn(\"[IterativeImputer] Early stopping criterion not\"\n",
      "/Users/jeffhale/miniconda3/lib/python3.8/site-packages/sklearn/impute/_iterative.py:669: ConvergenceWarning: [IterativeImputer] Early stopping criterion not reached.\n",
      "  warnings.warn(\"[IterativeImputer] Early stopping criterion not\"\n",
      "/Users/jeffhale/miniconda3/lib/python3.8/site-packages/sklearn/impute/_iterative.py:669: ConvergenceWarning: [IterativeImputer] Early stopping criterion not reached.\n",
      "  warnings.warn(\"[IterativeImputer] Early stopping criterion not\"\n",
      "/Users/jeffhale/miniconda3/lib/python3.8/site-packages/sklearn/impute/_iterative.py:669: ConvergenceWarning: [IterativeImputer] Early stopping criterion not reached.\n",
      "  warnings.warn(\"[IterativeImputer] Early stopping criterion not\"\n",
      "/Users/jeffhale/miniconda3/lib/python3.8/site-packages/sklearn/impute/_iterative.py:669: ConvergenceWarning: [IterativeImputer] Early stopping criterion not reached.\n",
      "  warnings.warn(\"[IterativeImputer] Early stopping criterion not\"\n",
      "/Users/jeffhale/miniconda3/lib/python3.8/site-packages/sklearn/impute/_iterative.py:669: ConvergenceWarning: [IterativeImputer] Early stopping criterion not reached.\n",
      "  warnings.warn(\"[IterativeImputer] Early stopping criterion not\"\n",
      "/Users/jeffhale/miniconda3/lib/python3.8/site-packages/sklearn/impute/_iterative.py:669: ConvergenceWarning: [IterativeImputer] Early stopping criterion not reached.\n",
      "  warnings.warn(\"[IterativeImputer] Early stopping criterion not\"\n",
      "/Users/jeffhale/miniconda3/lib/python3.8/site-packages/sklearn/impute/_iterative.py:669: ConvergenceWarning: [IterativeImputer] Early stopping criterion not reached.\n",
      "  warnings.warn(\"[IterativeImputer] Early stopping criterion not\"\n",
      "/Users/jeffhale/miniconda3/lib/python3.8/site-packages/sklearn/impute/_iterative.py:669: ConvergenceWarning: [IterativeImputer] Early stopping criterion not reached.\n",
      "  warnings.warn(\"[IterativeImputer] Early stopping criterion not\"\n",
      "/Users/jeffhale/miniconda3/lib/python3.8/site-packages/sklearn/impute/_iterative.py:669: ConvergenceWarning: [IterativeImputer] Early stopping criterion not reached.\n",
      "  warnings.warn(\"[IterativeImputer] Early stopping criterion not\"\n",
      "/Users/jeffhale/miniconda3/lib/python3.8/site-packages/sklearn/impute/_iterative.py:669: ConvergenceWarning: [IterativeImputer] Early stopping criterion not reached.\n",
      "  warnings.warn(\"[IterativeImputer] Early stopping criterion not\"\n",
      "/Users/jeffhale/miniconda3/lib/python3.8/site-packages/sklearn/impute/_iterative.py:669: ConvergenceWarning: [IterativeImputer] Early stopping criterion not reached.\n",
      "  warnings.warn(\"[IterativeImputer] Early stopping criterion not\"\n",
      "/Users/jeffhale/miniconda3/lib/python3.8/site-packages/sklearn/impute/_iterative.py:669: ConvergenceWarning: [IterativeImputer] Early stopping criterion not reached.\n",
      "  warnings.warn(\"[IterativeImputer] Early stopping criterion not\"\n",
      "/Users/jeffhale/miniconda3/lib/python3.8/site-packages/sklearn/impute/_iterative.py:669: ConvergenceWarning: [IterativeImputer] Early stopping criterion not reached.\n",
      "  warnings.warn(\"[IterativeImputer] Early stopping criterion not\"\n",
      "/Users/jeffhale/miniconda3/lib/python3.8/site-packages/sklearn/impute/_iterative.py:669: ConvergenceWarning: [IterativeImputer] Early stopping criterion not reached.\n",
      "  warnings.warn(\"[IterativeImputer] Early stopping criterion not\"\n",
      "/Users/jeffhale/miniconda3/lib/python3.8/site-packages/sklearn/impute/_iterative.py:669: ConvergenceWarning: [IterativeImputer] Early stopping criterion not reached.\n",
      "  warnings.warn(\"[IterativeImputer] Early stopping criterion not\"\n",
      "/Users/jeffhale/miniconda3/lib/python3.8/site-packages/sklearn/impute/_iterative.py:669: ConvergenceWarning: [IterativeImputer] Early stopping criterion not reached.\n",
      "  warnings.warn(\"[IterativeImputer] Early stopping criterion not\"\n",
      "/Users/jeffhale/miniconda3/lib/python3.8/site-packages/sklearn/impute/_iterative.py:669: ConvergenceWarning: [IterativeImputer] Early stopping criterion not reached.\n",
      "  warnings.warn(\"[IterativeImputer] Early stopping criterion not\"\n",
      "/Users/jeffhale/miniconda3/lib/python3.8/site-packages/sklearn/impute/_iterative.py:669: ConvergenceWarning: [IterativeImputer] Early stopping criterion not reached.\n",
      "  warnings.warn(\"[IterativeImputer] Early stopping criterion not\"\n",
      "/Users/jeffhale/miniconda3/lib/python3.8/site-packages/sklearn/impute/_iterative.py:669: ConvergenceWarning: [IterativeImputer] Early stopping criterion not reached.\n",
      "  warnings.warn(\"[IterativeImputer] Early stopping criterion not\"\n"
     ]
    }
   ],
   "source": [
    "# Estimate the score after iterative imputation of the missing values\n",
    "# with different estimators\n",
    "estimators = [\n",
    "    BayesianRidge(),\n",
    "    DecisionTreeRegressor(max_features='sqrt', random_state=0),\n",
    "    ExtraTreesRegressor(n_estimators=10, random_state=0),\n",
    "    KNeighborsRegressor(n_neighbors=5)                             # changed n to 5\n",
    "]\n",
    "\n",
    "score_iterative_imputer = pd.DataFrame()\n",
    "for impute_estimator in estimators:\n",
    "    estimator = make_pipeline(\n",
    "        IterativeImputer(random_state=0, estimator=impute_estimator),\n",
    "        br_estimator\n",
    "    )\n",
    "    score_iterative_imputer[impute_estimator.__class__.__name__] = \\\n",
    "        cross_val_score(\n",
    "            estimator, X_missing, y_missing, scoring='neg_mean_squared_error',\n",
    "            cv=N_SPLITS\n",
    "        )"
   ]
  },
  {
   "cell_type": "markdown",
   "metadata": {},
   "source": [
    "## Add drop values"
   ]
  },
  {
   "cell_type": "code",
   "execution_count": 9,
   "metadata": {},
   "outputs": [],
   "source": [
    "# estimator = make_pipeline(\n",
    "#         SimpleImputer(missing_values=np.nan, strategy=drop),\n",
    "#         br_estimator\n",
    "#     )\n",
    "#     score_simple_imputer[strategy] = cross_val_score(\n",
    "#         estimator, X_missing, y_missing, scoring='neg_mean_squared_error',\n",
    "#         cv=N_SPLITS\n",
    "#     )"
   ]
  },
  {
   "cell_type": "markdown",
   "metadata": {},
   "source": [
    "## Add missing value indicator only"
   ]
  },
  {
   "cell_type": "code",
   "execution_count": null,
   "metadata": {},
   "outputs": [],
   "source": []
  },
  {
   "cell_type": "markdown",
   "metadata": {},
   "source": [
    "## Add KNNImputer"
   ]
  },
  {
   "cell_type": "code",
   "execution_count": 18,
   "metadata": {},
   "outputs": [],
   "source": [
    "from sklearn.impute import KNNImputer\n",
    "\n",
    "score_knn_imputer = pd.DataFrame()\n",
    "\n",
    "for missing in (True, False):\n",
    "    for neighbors in range(3, 6, 2):\n",
    "\n",
    "        estimator = make_pipeline(\n",
    "            KNNImputer(\n",
    "                missing_values=np.nan, \n",
    "                n_neighbors=neighbors,\n",
    "                add_indicator=missing\n",
    "            ),\n",
    "            br_estimator\n",
    "        )\n",
    "\n",
    "        score_knn_imputer[f'KNN_{neighbors}_indicator_{missing}'] = cross_val_score(\n",
    "            estimator, \n",
    "            X_missing, \n",
    "            y_missing, \n",
    "            scoring='neg_mean_squared_error',\n",
    "            cv=N_SPLITS\n",
    "        )"
   ]
  },
  {
   "cell_type": "markdown",
   "metadata": {},
   "source": [
    "## KNNImputer is slow. Just go with 3 or 5 points."
   ]
  },
  {
   "cell_type": "markdown",
   "metadata": {},
   "source": [
    "### Concatenate scores"
   ]
  },
  {
   "cell_type": "code",
   "execution_count": 29,
   "metadata": {
    "collapsed": false,
    "jupyter": {
     "outputs_hidden": false
    }
   },
   "outputs": [
    {
     "data": {
      "text/html": [
       "<div>\n",
       "<style scoped>\n",
       "    .dataframe tbody tr th:only-of-type {\n",
       "        vertical-align: middle;\n",
       "    }\n",
       "\n",
       "    .dataframe tbody tr th {\n",
       "        vertical-align: top;\n",
       "    }\n",
       "\n",
       "    .dataframe thead th {\n",
       "        text-align: right;\n",
       "    }\n",
       "</style>\n",
       "<table border=\"1\" class=\"dataframe\">\n",
       "  <thead>\n",
       "    <tr style=\"text-align: right;\">\n",
       "      <th></th>\n",
       "      <th>0</th>\n",
       "      <th>1</th>\n",
       "      <th>2</th>\n",
       "      <th>3</th>\n",
       "      <th>4</th>\n",
       "    </tr>\n",
       "  </thead>\n",
       "  <tbody>\n",
       "    <tr>\n",
       "      <th>Full Data</th>\n",
       "      <td>-0.484400</td>\n",
       "      <td>-0.622683</td>\n",
       "      <td>-0.646209</td>\n",
       "      <td>-0.543514</td>\n",
       "      <td>-0.494590</td>\n",
       "    </tr>\n",
       "    <tr>\n",
       "      <th>mean_indicator_True</th>\n",
       "      <td>-0.615336</td>\n",
       "      <td>-0.792419</td>\n",
       "      <td>-0.836734</td>\n",
       "      <td>-0.779781</td>\n",
       "      <td>-0.729187</td>\n",
       "    </tr>\n",
       "    <tr>\n",
       "      <th>median_indicator_True</th>\n",
       "      <td>-0.615519</td>\n",
       "      <td>-0.792474</td>\n",
       "      <td>-0.836789</td>\n",
       "      <td>-0.779557</td>\n",
       "      <td>-0.729650</td>\n",
       "    </tr>\n",
       "    <tr>\n",
       "      <th>most_frequent_indicator_True</th>\n",
       "      <td>-0.615556</td>\n",
       "      <td>-0.792516</td>\n",
       "      <td>-0.836816</td>\n",
       "      <td>-0.779805</td>\n",
       "      <td>-0.729394</td>\n",
       "    </tr>\n",
       "    <tr>\n",
       "      <th>mean_indicator_False</th>\n",
       "      <td>-0.617319</td>\n",
       "      <td>-0.788357</td>\n",
       "      <td>-0.834293</td>\n",
       "      <td>-0.777729</td>\n",
       "      <td>-0.730966</td>\n",
       "    </tr>\n",
       "    <tr>\n",
       "      <th>median_indicator_False</th>\n",
       "      <td>-0.634464</td>\n",
       "      <td>-0.793221</td>\n",
       "      <td>-0.842399</td>\n",
       "      <td>-0.780054</td>\n",
       "      <td>-0.763754</td>\n",
       "    </tr>\n",
       "    <tr>\n",
       "      <th>most_frequent_indicator_False</th>\n",
       "      <td>-1.091001</td>\n",
       "      <td>-0.823589</td>\n",
       "      <td>-0.871846</td>\n",
       "      <td>-1.176936</td>\n",
       "      <td>-0.761705</td>\n",
       "    </tr>\n",
       "    <tr>\n",
       "      <th>BayesianRidge</th>\n",
       "      <td>-0.510996</td>\n",
       "      <td>-0.718955</td>\n",
       "      <td>-0.672847</td>\n",
       "      <td>-0.702774</td>\n",
       "      <td>-0.597077</td>\n",
       "    </tr>\n",
       "    <tr>\n",
       "      <th>DecisionTreeRegressor</th>\n",
       "      <td>-0.591030</td>\n",
       "      <td>-0.620471</td>\n",
       "      <td>-0.732998</td>\n",
       "      <td>-0.640645</td>\n",
       "      <td>-0.574960</td>\n",
       "    </tr>\n",
       "    <tr>\n",
       "      <th>ExtraTreesRegressor</th>\n",
       "      <td>-0.509268</td>\n",
       "      <td>-0.583105</td>\n",
       "      <td>-0.695801</td>\n",
       "      <td>-0.586630</td>\n",
       "      <td>-0.535160</td>\n",
       "    </tr>\n",
       "    <tr>\n",
       "      <th>KNeighborsRegressor</th>\n",
       "      <td>-0.618857</td>\n",
       "      <td>-0.707610</td>\n",
       "      <td>-0.807950</td>\n",
       "      <td>-0.787565</td>\n",
       "      <td>-0.681021</td>\n",
       "    </tr>\n",
       "    <tr>\n",
       "      <th>KNN_3_indicator_True</th>\n",
       "      <td>-0.558679</td>\n",
       "      <td>-0.675044</td>\n",
       "      <td>-0.722829</td>\n",
       "      <td>-0.643115</td>\n",
       "      <td>-0.583209</td>\n",
       "    </tr>\n",
       "    <tr>\n",
       "      <th>KNN_5_indicator_True</th>\n",
       "      <td>-0.559056</td>\n",
       "      <td>-0.676858</td>\n",
       "      <td>-0.718672</td>\n",
       "      <td>-0.639535</td>\n",
       "      <td>-0.582338</td>\n",
       "    </tr>\n",
       "    <tr>\n",
       "      <th>KNN_3_indicator_False</th>\n",
       "      <td>-0.560714</td>\n",
       "      <td>-0.674972</td>\n",
       "      <td>-0.721248</td>\n",
       "      <td>-0.643407</td>\n",
       "      <td>-0.580094</td>\n",
       "    </tr>\n",
       "    <tr>\n",
       "      <th>KNN_5_indicator_False</th>\n",
       "      <td>-0.561313</td>\n",
       "      <td>-0.676592</td>\n",
       "      <td>-0.717218</td>\n",
       "      <td>-0.639541</td>\n",
       "      <td>-0.579438</td>\n",
       "    </tr>\n",
       "  </tbody>\n",
       "</table>\n",
       "</div>"
      ],
      "text/plain": [
       "                                      0         1         2         3  \\\n",
       "Full Data                     -0.484400 -0.622683 -0.646209 -0.543514   \n",
       "mean_indicator_True           -0.615336 -0.792419 -0.836734 -0.779781   \n",
       "median_indicator_True         -0.615519 -0.792474 -0.836789 -0.779557   \n",
       "most_frequent_indicator_True  -0.615556 -0.792516 -0.836816 -0.779805   \n",
       "mean_indicator_False          -0.617319 -0.788357 -0.834293 -0.777729   \n",
       "median_indicator_False        -0.634464 -0.793221 -0.842399 -0.780054   \n",
       "most_frequent_indicator_False -1.091001 -0.823589 -0.871846 -1.176936   \n",
       "BayesianRidge                 -0.510996 -0.718955 -0.672847 -0.702774   \n",
       "DecisionTreeRegressor         -0.591030 -0.620471 -0.732998 -0.640645   \n",
       "ExtraTreesRegressor           -0.509268 -0.583105 -0.695801 -0.586630   \n",
       "KNeighborsRegressor           -0.618857 -0.707610 -0.807950 -0.787565   \n",
       "KNN_3_indicator_True          -0.558679 -0.675044 -0.722829 -0.643115   \n",
       "KNN_5_indicator_True          -0.559056 -0.676858 -0.718672 -0.639535   \n",
       "KNN_3_indicator_False         -0.560714 -0.674972 -0.721248 -0.643407   \n",
       "KNN_5_indicator_False         -0.561313 -0.676592 -0.717218 -0.639541   \n",
       "\n",
       "                                      4  \n",
       "Full Data                     -0.494590  \n",
       "mean_indicator_True           -0.729187  \n",
       "median_indicator_True         -0.729650  \n",
       "most_frequent_indicator_True  -0.729394  \n",
       "mean_indicator_False          -0.730966  \n",
       "median_indicator_False        -0.763754  \n",
       "most_frequent_indicator_False -0.761705  \n",
       "BayesianRidge                 -0.597077  \n",
       "DecisionTreeRegressor         -0.574960  \n",
       "ExtraTreesRegressor           -0.535160  \n",
       "KNeighborsRegressor           -0.681021  \n",
       "KNN_3_indicator_True          -0.583209  \n",
       "KNN_5_indicator_True          -0.582338  \n",
       "KNN_3_indicator_False         -0.580094  \n",
       "KNN_5_indicator_False         -0.579438  "
      ]
     },
     "execution_count": 29,
     "metadata": {},
     "output_type": "execute_result"
    }
   ],
   "source": [
    "scores = pd.concat(\n",
    "    [score_full_data, score_simple_imputer, score_iterative_imputer, score_knn_imputer], axis=1\n",
    ")\n",
    "scores.T"
   ]
  },
  {
   "cell_type": "code",
   "execution_count": 31,
   "metadata": {},
   "outputs": [
    {
     "data": {
      "text/html": [
       "<div>\n",
       "<style scoped>\n",
       "    .dataframe tbody tr th:only-of-type {\n",
       "        vertical-align: middle;\n",
       "    }\n",
       "\n",
       "    .dataframe tbody tr th {\n",
       "        vertical-align: top;\n",
       "    }\n",
       "\n",
       "    .dataframe thead th {\n",
       "        text-align: right;\n",
       "    }\n",
       "</style>\n",
       "<table border=\"1\" class=\"dataframe\">\n",
       "  <thead>\n",
       "    <tr style=\"text-align: right;\">\n",
       "      <th></th>\n",
       "      <th>Mean</th>\n",
       "      <th>Std</th>\n",
       "    </tr>\n",
       "  </thead>\n",
       "  <tbody>\n",
       "    <tr>\n",
       "      <th>most_frequent_indicator_False</th>\n",
       "      <td>0.945015</td>\n",
       "      <td>0.179443</td>\n",
       "    </tr>\n",
       "    <tr>\n",
       "      <th>median_indicator_False</th>\n",
       "      <td>0.762779</td>\n",
       "      <td>0.077508</td>\n",
       "    </tr>\n",
       "    <tr>\n",
       "      <th>most_frequent_indicator_True</th>\n",
       "      <td>0.750817</td>\n",
       "      <td>0.084749</td>\n",
       "    </tr>\n",
       "    <tr>\n",
       "      <th>median_indicator_True</th>\n",
       "      <td>0.750798</td>\n",
       "      <td>0.084714</td>\n",
       "    </tr>\n",
       "    <tr>\n",
       "      <th>mean_indicator_True</th>\n",
       "      <td>0.750691</td>\n",
       "      <td>0.084815</td>\n",
       "    </tr>\n",
       "    <tr>\n",
       "      <th>mean_indicator_False</th>\n",
       "      <td>0.749733</td>\n",
       "      <td>0.082631</td>\n",
       "    </tr>\n",
       "    <tr>\n",
       "      <th>KNeighborsRegressor</th>\n",
       "      <td>0.720601</td>\n",
       "      <td>0.077784</td>\n",
       "    </tr>\n",
       "    <tr>\n",
       "      <th>BayesianRidge</th>\n",
       "      <td>0.640530</td>\n",
       "      <td>0.086221</td>\n",
       "    </tr>\n",
       "    <tr>\n",
       "      <th>KNN_3_indicator_True</th>\n",
       "      <td>0.636575</td>\n",
       "      <td>0.066854</td>\n",
       "    </tr>\n",
       "    <tr>\n",
       "      <th>KNN_3_indicator_False</th>\n",
       "      <td>0.636087</td>\n",
       "      <td>0.066397</td>\n",
       "    </tr>\n",
       "    <tr>\n",
       "      <th>KNN_5_indicator_True</th>\n",
       "      <td>0.635292</td>\n",
       "      <td>0.065791</td>\n",
       "    </tr>\n",
       "    <tr>\n",
       "      <th>KNN_5_indicator_False</th>\n",
       "      <td>0.634820</td>\n",
       "      <td>0.065244</td>\n",
       "    </tr>\n",
       "    <tr>\n",
       "      <th>DecisionTreeRegressor</th>\n",
       "      <td>0.632021</td>\n",
       "      <td>0.061928</td>\n",
       "    </tr>\n",
       "    <tr>\n",
       "      <th>ExtraTreesRegressor</th>\n",
       "      <td>0.581993</td>\n",
       "      <td>0.071514</td>\n",
       "    </tr>\n",
       "    <tr>\n",
       "      <th>Full Data</th>\n",
       "      <td>0.558279</td>\n",
       "      <td>0.073505</td>\n",
       "    </tr>\n",
       "  </tbody>\n",
       "</table>\n",
       "</div>"
      ],
      "text/plain": [
       "                                   Mean       Std\n",
       "most_frequent_indicator_False  0.945015  0.179443\n",
       "median_indicator_False         0.762779  0.077508\n",
       "most_frequent_indicator_True   0.750817  0.084749\n",
       "median_indicator_True          0.750798  0.084714\n",
       "mean_indicator_True            0.750691  0.084815\n",
       "mean_indicator_False           0.749733  0.082631\n",
       "KNeighborsRegressor            0.720601  0.077784\n",
       "BayesianRidge                  0.640530  0.086221\n",
       "KNN_3_indicator_True           0.636575  0.066854\n",
       "KNN_3_indicator_False          0.636087  0.066397\n",
       "KNN_5_indicator_True           0.635292  0.065791\n",
       "KNN_5_indicator_False          0.634820  0.065244\n",
       "DecisionTreeRegressor          0.632021  0.061928\n",
       "ExtraTreesRegressor            0.581993  0.071514\n",
       "Full Data                      0.558279  0.073505"
      ]
     },
     "execution_count": 31,
     "metadata": {},
     "output_type": "execute_result"
    }
   ],
   "source": [
    "df = pd.concat([scores.mean(), scores.std()], axis=1)\n",
    "df.columns=['Mean', 'Std']\n",
    "df['Mean'] = -df['Mean']\n",
    "df = df.sort_values(by='Mean', ascending=False)\n",
    "df"
   ]
  },
  {
   "cell_type": "markdown",
   "metadata": {},
   "source": [
    "## Plots"
   ]
  },
  {
   "cell_type": "code",
   "execution_count": 32,
   "metadata": {},
   "outputs": [
    {
     "data": {
      "image/png": "[encoded data removed]",
      "text/plain": [
       "<Figure size 864x576 with 1 Axes>"
      ]
     },
     "metadata": {
      "needs_background": "light"
     },
     "output_type": "display_data"
    }
   ],
   "source": [
    "df.plot(\n",
    "    kind='barh',  \n",
    "    y=\"Mean\", \n",
    "    xerr=\"Std\", \n",
    "    title='California Housing Regression with Different Imputation Methods',\n",
    "    legend=False, \n",
    "    figsize=(12, 8),\n",
    ")\n",
    "    \n",
    "plt.xlabel('MSE (smaller is better)');"
   ]
  },
  {
   "cell_type": "markdown",
   "metadata": {},
   "source": [
    "I tested additional ways to deal with missing values. In this one limited test, where the data is missing completely at random, the iterative imputation methods performed best. KNNImputer could be tested with Different KNN values.\n",
    "\n",
    "Missing value indicators didn't have a large impact. Picking the most frequent value was a big loser."
   ]
  },
  {
   "cell_type": "markdown",
   "metadata": {},
   "source": [
    "Main takeaways:\n",
    "1. the imputation strategy can matter ALOT for performance.\n",
    "2. multiple imputation was best in this case. KNN with small N next best, but not a big deal with basic strategy used - although most frequent was a real loser in this case."
   ]
  },
  {
   "cell_type": "markdown",
   "metadata": {},
   "source": [
    "### Next steps\n",
    "\n",
    "Make functions to do with multiple datasets.\n",
    "Do analysis of performance across a variety of datasets.\n",
    "Maybe just do OHE and take top 10 features for all of them."
   ]
  },
  {
   "cell_type": "markdown",
   "metadata": {},
   "source": [
    "Keeping more of the data, ExtraTreesRegressor still by far the best, but all other multiple imputers and KNNs about the same. Missing indicator dosn't matter much. KNeighborsRegressor not good. Most frequent and med and median not good."
   ]
  },
  {
   "cell_type": "markdown",
   "metadata": {},
   "source": [
    "Bayesian ridge iterative imputer did second best in the docs example when only using 1/10 of the data - not so with all the data."
   ]
  }
 ],
 "metadata": {
  "kernelspec": {
   "display_name": "Python 3",
   "language": "python",
   "name": "python3"
  },
  "language_info": {
   "codemirror_mode": {
    "name": "ipython",
    "version": 3
   },
   "file_extension": ".py",
   "mimetype": "text/x-python",
   "name": "python",
   "nbconvert_exporter": "python",
   "pygments_lexer": "ipython3",
   "version": "3.8.5"
  }
 },
 "nbformat": 4,
 "nbformat_minor": 4
}
